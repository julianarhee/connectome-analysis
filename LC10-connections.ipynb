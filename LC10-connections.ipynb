version https://git-lfs.github.com/spec/v1
oid sha256:23898235f198aebf36b4ae3d6b31db3fbf4c642a5fd6da0b87dc52bff07a5783
size 508406295
