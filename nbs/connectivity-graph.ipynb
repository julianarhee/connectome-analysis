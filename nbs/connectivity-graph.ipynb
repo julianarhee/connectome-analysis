{
 "cells": [
  {
   "cell_type": "code",
   "execution_count": 1,
   "id": "7c9118ec-aae5-45d8-be0f-3fd8d9fecdb9",
   "metadata": {},
   "outputs": [],
   "source": [
    "import sys\n",
    "import os\n",
    "\n",
    "import pandas as pd\n",
    "import numpy as np\n",
    "import pylab as pl\n",
    "# from scipy import stats\n",
    "from sklearn import mixture\n",
    "\n",
    "import seaborn as sns\n",
    "\n",
    "# import some custom funcs\n",
    "module_path = os.path.abspath(os.path.join('..'))\n",
    "if module_path not in sys.path:\n",
    "    sys.path.append(module_path)\n",
    "\n",
    "import Stable.ConnectomeFunctions as cf\n",
    "\n",
    "import Development.Neuprint as dv\n",
    "import neuprint as neu"
   ]
  },
  {
   "cell_type": "code",
   "execution_count": 2,
   "id": "9f07f139-7e6a-4216-91da-1fd1a064b85d",
   "metadata": {},
   "outputs": [],
   "source": [
    "import plotting as putil\n",
    "import utils as util\n",
    "import neuprint_funcs as npf"
   ]
  },
  {
   "cell_type": "code",
   "execution_count": 52,
   "id": "ac8aee93-2887-4101-93fe-ddc918c81cf4",
   "metadata": {},
   "outputs": [
    {
     "name": "stdout",
     "output_type": "stream",
     "text": [
      "/Users/julianarhee/Documents/rutalab/projects/connectome/neuprint-playground/connectivity\n"
     ]
    }
   ],
   "source": [
    "basedir = '/Users/julianarhee/Documents/rutalab/projects/connectome/neuprint-playground'\n",
    "\n",
    "figdir = os.path.join(basedir, 'connectivity')\n",
    "if not os.path.exists(figdir):\n",
    "    os.makedirs(figdir)\n",
    "print(figdir)"
   ]
  },
  {
   "cell_type": "code",
   "execution_count": null,
   "id": "3ce10e6a-a0e2-4247-aa63-991aa7b01f3a",
   "metadata": {},
   "outputs": [],
   "source": []
  },
  {
   "cell_type": "code",
   "execution_count": 4,
   "id": "5923a006-5130-4083-aa8e-e07d11f3d078",
   "metadata": {},
   "outputs": [],
   "source": [
    "plot_style = 'white'\n",
    "putil.set_sns_style(style=plot_style)\n",
    "bg_color = [0.7]*3 if plot_style=='dark' else 'k'"
   ]
  },
  {
   "cell_type": "code",
   "execution_count": 5,
   "id": "77be9a4c-9353-4f9f-bbfa-4bf21e42a3f8",
   "metadata": {},
   "outputs": [],
   "source": [
    "# def search_fun(start_id,end_id,cm,count=0):\n",
    "#     # From Charlie\n",
    "#     # cm = thresholded connectivity matrix \n",
    "    \n",
    "#    # print('search')\n",
    "#     t_row = cm[start_id,:]\n",
    "#     t_id = t_row[end_id]\n",
    "#     if t_id<1 and count<4:\n",
    "#         id_thresh = np.where(t_row>0)[0]\n",
    "#         counts = np.array(np.zeros(len(id_thresh)))-1\n",
    "#         for i,t in enumerate(id_thresh):\n",
    "#             counts[i] = search_fun(t,end_id,cm,count+1)\n",
    "#         count = np.min(counts)\n",
    "#     else:\n",
    "#         count = count+1\n",
    "        \n",
    "#    # print(count)\n",
    "#     return count\n"
   ]
  },
  {
   "cell_type": "code",
   "execution_count": 6,
   "id": "cb573a61-d53e-4407-97d1-3e41b41cd678",
   "metadata": {},
   "outputs": [],
   "source": [
    "from neuprint import NeuronCriteria as NC"
   ]
  },
  {
   "cell_type": "code",
   "execution_count": 7,
   "id": "847f3346-116a-4b52-8aeb-c655fc28df81",
   "metadata": {},
   "outputs": [],
   "source": [
    "#aotu25 = 892294329 (RH)\n",
    "#aotu19 = 799868224 (RH)\n"
   ]
  },
  {
   "cell_type": "code",
   "execution_count": 8,
   "id": "1286240c-66a4-483e-b038-8a8bbd15e795",
   "metadata": {},
   "outputs": [],
   "source": [
    "# Example: Fetch all downstream connections FROM a set of neurons\n",
    "neuron_df, conn_df = neu.fetch_adjacencies([799868224], None)\n"
   ]
  },
  {
   "cell_type": "code",
   "execution_count": 9,
   "id": "5fb8c7fc-3f61-41c4-8157-e8ea2b239297",
   "metadata": {},
   "outputs": [
    {
     "data": {
      "text/html": [
       "<div>\n",
       "<style scoped>\n",
       "    .dataframe tbody tr th:only-of-type {\n",
       "        vertical-align: middle;\n",
       "    }\n",
       "\n",
       "    .dataframe tbody tr th {\n",
       "        vertical-align: top;\n",
       "    }\n",
       "\n",
       "    .dataframe thead th {\n",
       "        text-align: right;\n",
       "    }\n",
       "</style>\n",
       "<table border=\"1\" class=\"dataframe\">\n",
       "  <thead>\n",
       "    <tr style=\"text-align: right;\">\n",
       "      <th></th>\n",
       "      <th>path</th>\n",
       "      <th>bodyId</th>\n",
       "      <th>type</th>\n",
       "      <th>weight</th>\n",
       "    </tr>\n",
       "  </thead>\n",
       "  <tbody>\n",
       "    <tr>\n",
       "      <th>0</th>\n",
       "      <td>0</td>\n",
       "      <td>799868224</td>\n",
       "      <td>AOTU019</td>\n",
       "      <td>0</td>\n",
       "    </tr>\n",
       "    <tr>\n",
       "      <th>1</th>\n",
       "      <td>0</td>\n",
       "      <td>1789613296</td>\n",
       "      <td>LAL074</td>\n",
       "      <td>25</td>\n",
       "    </tr>\n",
       "    <tr>\n",
       "      <th>2</th>\n",
       "      <td>0</td>\n",
       "      <td>1140245595</td>\n",
       "      <td>DNa02</td>\n",
       "      <td>19</td>\n",
       "    </tr>\n",
       "  </tbody>\n",
       "</table>\n",
       "</div>"
      ],
      "text/plain": [
       "   path      bodyId     type  weight\n",
       "0     0   799868224  AOTU019       0\n",
       "1     0  1789613296   LAL074      25\n",
       "2     0  1140245595    DNa02      19"
      ]
     },
     "execution_count": 9,
     "metadata": {},
     "output_type": "execute_result"
    }
   ],
   "source": [
    "upstream_bodyId = 799868224\n",
    "downstream_bodyId = 1140245595 # DNa02\n",
    "\n",
    "min_weight=10\n",
    "\n",
    "paths = neu.queries.fetch_shortest_paths(upstream_bodyId, downstream_bodyId, \n",
    "                                         min_weight=10, intermediate_criteria=None, timeout=5.0, client=None)\n",
    "paths"
   ]
  },
  {
   "cell_type": "markdown",
   "id": "5cfd0b78-a490-4c3b-addf-70600f4cad22",
   "metadata": {},
   "source": [
    "## Get all DNs"
   ]
  },
  {
   "cell_type": "code",
   "execution_count": 10,
   "id": "7e950fb7-1d45-4513-aa20-7ac7eeacf2cc",
   "metadata": {},
   "outputs": [
    {
     "name": "stderr",
     "output_type": "stream",
     "text": [
      "/Users/julianarhee/miniforge3/envs/neuprint/lib/python3.11/site-packages/neuprint/client.py:609: FutureWarning: Series.__getitem__ treating keys as positions is deprecated. In a future version, integer keys will always be treated as labels (consistent with DataFrame behavior). To access a value by position, use `ser.iloc[pos]`\n",
      "  neuron_props_val = df_results.iloc[0][0]\n"
     ]
    }
   ],
   "source": [
    "# Example: Select bodies by type name pattern \n",
    "# ∼1300 DNs\n",
    "criteria_dn = NC(type='DN.*')\n",
    "neuron_df, roi_counts_df = neu.fetch_neurons(criteria_dn)"
   ]
  },
  {
   "cell_type": "code",
   "execution_count": 11,
   "id": "1014ffa0-82eb-4bb0-86c3-d98103202354",
   "metadata": {},
   "outputs": [
    {
     "data": {
      "text/plain": [
       "107"
      ]
     },
     "execution_count": 11,
     "metadata": {},
     "output_type": "execute_result"
    }
   ],
   "source": [
    "# https://connectome-neuprint.github.io/neuprint-python/docs/notebooks/QueryTutorial.html#Neuron-Search-Criteria\n",
    "# The total count of pre-synaptic and post-synaptic points within each neuron \n",
    "# are given in the pre and post columns:\n",
    "# neuron_df[['bodyId', 'instance', 'type', 'pre', 'post', 'status', 'cropped', 'size']]\n",
    "\n",
    "DN_bodyIds = list(neuron_df['bodyId'].unique())\n",
    "len(DN_bodyIds)"
   ]
  },
  {
   "cell_type": "code",
   "execution_count": 12,
   "id": "9ca7e6c9-08ed-4add-a366-5cca8de7fd4a",
   "metadata": {},
   "outputs": [
    {
     "data": {
      "text/plain": [
       "33"
      ]
     },
     "execution_count": 12,
     "metadata": {},
     "output_type": "execute_result"
    }
   ],
   "source": [
    "DN_bodyIds.index(1140245595)"
   ]
  },
  {
   "cell_type": "markdown",
   "id": "fa561fff-235a-44ba-8e39-213bef4e7ca1",
   "metadata": {},
   "source": [
    "## Get conections from 1 of the AOTUs"
   ]
  },
  {
   "cell_type": "code",
   "execution_count": 13,
   "id": "1dbedaea-8cc7-4e3b-8a08-58eb6da64190",
   "metadata": {},
   "outputs": [
    {
     "data": {
      "text/plain": [
       "4"
      ]
     },
     "execution_count": 13,
     "metadata": {},
     "output_type": "execute_result"
    }
   ],
   "source": [
    "paths_from_19 = neu.queries.fetch_shortest_paths(upstream_bodyId, 5813068840, #DN_bodyIds[33], \n",
    "                                         min_weight=10, intermediate_criteria=None, timeout=5.0, client=None)\n",
    "\n",
    "# shortest = paths_from_19.groupby('path').count() #['bodyId'].argmin() #['bodyId'] #.argmin() #.reset_index()\n",
    "# Group by 'Category' and count the number of elements in each group\n",
    "group_counts = paths_from_19.groupby('path').size()\n",
    "\n",
    "# Get the group(s) with the fewest number of elements\n",
    "min_group = group_counts[group_counts == group_counts.min()] #.reset_index() #['path'][0]\n",
    "min_group.iloc[0]\n",
    "    "
   ]
  },
  {
   "cell_type": "code",
   "execution_count": 14,
   "id": "b89ac3be-c5e3-47d3-878c-23669c3e75e9",
   "metadata": {},
   "outputs": [
    {
     "name": "stderr",
     "output_type": "stream",
     "text": [
      "/var/folders/6z/bhycp6jj4pxg1qt6h_j36h880000gn/T/ipykernel_21131/1358842363.py:1: SettingWithCopyWarning: \n",
      "A value is trying to be set on a copy of a slice from a DataFrame.\n",
      "Try using .loc[row_indexer,col_indexer] = value instead\n",
      "\n",
      "See the caveats in the documentation: https://pandas.pydata.org/pandas-docs/stable/user_guide/indexing.html#returning-a-view-versus-a-copy\n",
      "  paths_from_19[paths_from_19['type'].isnull()]['type'] = 'Other'\n"
     ]
    }
   ],
   "source": [
    "paths_from_19[paths_from_19['type'].isnull()]['type'] = 'Other'"
   ]
  },
  {
   "cell_type": "markdown",
   "id": "663e99b7-2bfb-4fb1-b7de-74ce556fef1e",
   "metadata": {},
   "source": [
    "# Aggregate all connections"
   ]
  },
  {
   "cell_type": "code",
   "execution_count": 15,
   "id": "8e7bf935-d7d7-4153-bcd4-0fc9db730b28",
   "metadata": {},
   "outputs": [],
   "source": [
    "#aotu25 = 892294329 (RH)\n",
    "#aotu19 = 799868224 (RH)"
   ]
  },
  {
   "cell_type": "code",
   "execution_count": 118,
   "id": "c9bf2c5c-ddd5-435a-aec3-d57654c72988",
   "metadata": {
    "scrolled": true
   },
   "outputs": [
    {
     "name": "stdout",
     "output_type": "stream",
     "text": [
      "The top 6 groups with the largest sums are:\n",
      "DN_id\n",
      "1262014782    172\n",
      "1139909038    157\n",
      "1655997973     83\n",
      "1100404581     51\n",
      "1566597156     49\n",
      "1192848260     47\n",
      "Name: weight, dtype: int64\n",
      "The top 6 groups with the largest sums are:\n",
      "DN_id\n",
      "1006984280    171\n",
      "1140245595    160\n",
      "5813078134    126\n",
      "1139909038    115\n",
      "1037393225     73\n",
      "1466998977     60\n",
      "Name: weight, dtype: int64\n"
     ]
    }
   ],
   "source": [
    "rank_by_sum = True\n",
    "aotu019 = 799868224\n",
    "aotu025 = 892294329\n",
    "min_weight = 10\n",
    "n_nodes = 3\n",
    "n_plot = 6\n",
    "\n",
    "network_node_list = []\n",
    "network_path_list = []\n",
    "for upstream_bodyId in [aotu019, aotu025]:\n",
    "\n",
    "    # Get all paths that are < 3 synapses:\n",
    "    path_list = []\n",
    "    \n",
    "    for ix, id_ in enumerate(DN_bodyIds):\n",
    "        paths_ = neu.queries.fetch_shortest_paths(upstream_bodyId, id_,\n",
    "                                             min_weight=min_weight, intermediate_criteria=None, timeout=5.0, client=None)\n",
    "        paths_.loc[paths_['type'].isnull(), 'type'] = 'Other'\n",
    "        \n",
    "        if len(paths_)==0: # no connections\n",
    "            continue\n",
    "\n",
    "        if len(paths) <= n_nodes:\n",
    "            paths_['DN_id'] = id_\n",
    "            path_list.append(paths_)\n",
    "\n",
    "        path_list = [v for v in path_list if len(v) <= n_nodes]\n",
    "        # # Group by 'Category' and count the number of elements in each group\n",
    "        # group_counts = paths_.groupby('path').size()\n",
    "        \n",
    "        # # Get the group(s) with the fewest number of elements\n",
    "        # min_group = group_counts[group_counts == group_counts.min()] #.reset_index()['path'][0]\n",
    "    \n",
    "        # # Save if there are less than or equal to 3 synapses\n",
    "        # if min_group.iloc[0] <= 3:\n",
    "        #     # shortest_path = min_group.index.tolist()[0]\n",
    "        #     #path_list.append( paths_[paths_['path']==shortest_path])\n",
    "        #     paths_['DN_id'] = id_\n",
    "        #     path_list.append(paths_)\n",
    "    all_paths = pd.concat(path_list)\n",
    "    \n",
    "    # Group by 'X' and sum the 'Values' column\n",
    "    if rank_by_sum:\n",
    "        group_prod = all_paths.groupby('DN_id')['weight'].sum()\n",
    "    else:\n",
    "        all_paths['weight_1'] = all_paths.groupby('DN_id')['weight'].transform(lambda x: x.replace(0, 0.00001))\n",
    "        group_prod = all_paths.groupby('DN_id')['weight_1'].prod() #.reset_index()\n",
    "\n",
    "\n",
    "    # Get the group or index with the largest sum\n",
    "    # max_group = group_sums.idxmax()\n",
    "    # print(f\"The group with the largest sum is: {max_group}\")\n",
    "    \n",
    "    # Get the top 3 groups with the largest sums\n",
    "    top_groups = group_prod.nlargest(n_plot)\n",
    "    top_ids = top_groups.index.tolist()\n",
    "    \n",
    "    print(\"The top {} groups with the largest sums are:\".format(n_plot))\n",
    "    print(top_groups)\n",
    "\n",
    "    network_path_list.append(all_paths[all_paths['DN_id'].isin(top_ids)])\n",
    "\n",
    "    # Cnvert to node list, each row represents 1 edge\n",
    "    node_list = []\n",
    "    for d, path_ in all_paths[all_paths['DN_id'].isin(top_ids)].groupby(['DN_id', 'path']):\n",
    "        for i in range(len(path_)-1):\n",
    "            df_ = pd.DataFrame({\n",
    "                       'source_id': path_.iloc[i]['bodyId'],\n",
    "                       'target_id': path_.iloc[i+1]['bodyId'],\n",
    "                       'source': path_.iloc[i]['type'],\n",
    "                       'target': path_.iloc[i+1]['type'],\n",
    "                       'weight': path_.iloc[i+1]['weight']\n",
    "            }, index=[i])\n",
    "            node_list.append(df_)\n",
    "    node_df_ = pd.concat(node_list).reset_index(drop=True)\n",
    "\n",
    "    network_node_list.append(node_df_)"
   ]
  },
  {
   "cell_type": "code",
   "execution_count": 122,
   "id": "626efd47-4a06-426f-be30-99a361b32f56",
   "metadata": {},
   "outputs": [],
   "source": [
    "node_df = pd.concat(network_node_list).reset_index(drop=True)\n",
    "all_paths = pd.concat(network_path_list)"
   ]
  },
  {
   "cell_type": "code",
   "execution_count": 123,
   "id": "df75d075-3e2a-4df8-b3ce-de8a85f5c21a",
   "metadata": {},
   "outputs": [
    {
     "data": {
      "text/plain": [
       "array(['AOTU019', 'PS232', 'DNp07', 'DNa03', 'LAL074', 'DNa09', 'DNa04',\n",
       "       'DNb01', 'AOTU025', 'PS042', 'DNp31', 'DNb04', 'DNa02', 'PS065',\n",
       "       'DNp05', 'LAL018', 'DNp15'], dtype=object)"
      ]
     },
     "execution_count": 123,
     "metadata": {},
     "output_type": "execute_result"
    }
   ],
   "source": [
    "# all_paths['weight_1'] = all_paths.groupby('DN_id')['weight'].transform(lambda x: x.replace(0, 1))\n",
    "# all_paths.groupby('DN_id')['weight_1'].prod().reset_index()\n",
    "all_paths['type'].unique()"
   ]
  },
  {
   "cell_type": "code",
   "execution_count": 124,
   "id": "40ca463a-06c3-43c5-9e33-2e1d0589a541",
   "metadata": {
    "scrolled": true
   },
   "outputs": [
    {
     "data": {
      "text/plain": [
       "['DNa02',\n",
       " 'DNa03',\n",
       " 'DNa04',\n",
       " 'DNa09',\n",
       " 'DNb01',\n",
       " 'DNb04',\n",
       " 'DNp05',\n",
       " 'DNp07',\n",
       " 'DNp15',\n",
       " 'DNp31',\n",
       " 'LAL018',\n",
       " 'LAL074',\n",
       " 'PS042',\n",
       " 'PS065',\n",
       " 'PS232']"
      ]
     },
     "execution_count": 124,
     "metadata": {},
     "output_type": "execute_result"
    }
   ],
   "source": [
    "sorted(sorted(node_df['target'].unique()))"
   ]
  },
  {
   "cell_type": "code",
   "execution_count": 125,
   "id": "eb6ba729-669d-4bca-897b-09924ec7372f",
   "metadata": {},
   "outputs": [],
   "source": [
    "# curr_paths = []\n",
    "# for ix, id_ in enumerate(DN_bodyIds):\n",
    "#     paths_ = neu.queries.fetch_shortest_paths(upstream_bodyId, id_,\n",
    "#                                          min_weight=10, intermediate_criteria=None, timeout=5.0, client=None)\n",
    "#     paths_.loc[paths_['type'].isnull(), 'type'] = 'Other'\n",
    "    \n",
    "#     if len(paths_)==0: # no connections\n",
    "#         continue\n",
    "#     curr_paths.append(paths_)"
   ]
  },
  {
   "cell_type": "code",
   "execution_count": 126,
   "id": "d5cca77b-4ac4-47ad-b264-b82685d19058",
   "metadata": {},
   "outputs": [
    {
     "data": {
      "text/plain": [
       "['DNa02', 'DNa03', 'LAL018', 'LAL074', 'PS042', 'PS065', 'PS232']"
      ]
     },
     "execution_count": 126,
     "metadata": {},
     "output_type": "execute_result"
    }
   ],
   "source": [
    "sorted(all_paths.loc[1]['type'].unique())\n",
    "#sorted(all_paths.loc[2]['type'].unique())"
   ]
  },
  {
   "cell_type": "code",
   "execution_count": 127,
   "id": "ed07d36a-7f50-4e15-900b-2961a1939512",
   "metadata": {},
   "outputs": [],
   "source": [
    "# https://towardsdatascience.com/visualizing-networks-in-python-d70f4cbeb259\n",
    "import networkx as nx"
   ]
  },
  {
   "cell_type": "code",
   "execution_count": 128,
   "id": "950d2c01-6c79-4397-9916-45e707d0759a",
   "metadata": {},
   "outputs": [],
   "source": [
    "G = nx.from_pandas_edgelist(node_df)"
   ]
  },
  {
   "cell_type": "code",
   "execution_count": 129,
   "id": "dd24916f-7e13-4ea3-803c-fb71cdfcca4f",
   "metadata": {
    "scrolled": true
   },
   "outputs": [
    {
     "data": {
      "image/png": "[encoded data removed]",
      "text/plain": [
       "<Figure size 600x400 with 1 Axes>"
      ]
     },
     "metadata": {},
     "output_type": "display_data"
    }
   ],
   "source": [
    "# nx.draw(G)\n",
    "nx.draw_networkx(G, arrows=True)"
   ]
  },
  {
   "cell_type": "markdown",
   "id": "f8f199ab-bf73-40e2-ade4-39640b7f0e05",
   "metadata": {},
   "source": [
    "# Get NTs"
   ]
  },
  {
   "cell_type": "code",
   "execution_count": 131,
   "id": "705572cf-fa21-4dbc-94b4-4bf4fa894c89",
   "metadata": {},
   "outputs": [
    {
     "data": {
      "text/html": [
       "<div>\n",
       "<style scoped>\n",
       "    .dataframe tbody tr th:only-of-type {\n",
       "        vertical-align: middle;\n",
       "    }\n",
       "\n",
       "    .dataframe tbody tr th {\n",
       "        vertical-align: top;\n",
       "    }\n",
       "\n",
       "    .dataframe thead th {\n",
       "        text-align: right;\n",
       "    }\n",
       "</style>\n",
       "<table border=\"1\" class=\"dataframe\">\n",
       "  <thead>\n",
       "    <tr style=\"text-align: right;\">\n",
       "      <th></th>\n",
       "      <th>bodyId</th>\n",
       "      <th>type</th>\n",
       "      <th>instance</th>\n",
       "      <th>nsyn</th>\n",
       "      <th>nts_8.gaba</th>\n",
       "      <th>nts_8.acetylcholine</th>\n",
       "      <th>nts_8.glutamate</th>\n",
       "      <th>nts_8.serotonin</th>\n",
       "      <th>nts_8.octopamine</th>\n",
       "      <th>nts_8.dopamine</th>\n",
       "      <th>nts_8.neither</th>\n",
       "    </tr>\n",
       "  </thead>\n",
       "  <tbody>\n",
       "    <tr>\n",
       "      <th>0</th>\n",
       "      <td>200326126</td>\n",
       "      <td>CL141</td>\n",
       "      <td>CL141_L</td>\n",
       "      <td>395</td>\n",
       "      <td>-1637.569103</td>\n",
       "      <td>-1888.178775</td>\n",
       "      <td>-115.398941</td>\n",
       "      <td>-2894.561977</td>\n",
       "      <td>-3152.783836</td>\n",
       "      <td>-3294.689383</td>\n",
       "      <td>-3033.630977</td>\n",
       "    </tr>\n",
       "    <tr>\n",
       "      <th>1</th>\n",
       "      <td>202916528</td>\n",
       "      <td>FS4C</td>\n",
       "      <td>FS4C(FQ12)_C4_R</td>\n",
       "      <td>95</td>\n",
       "      <td>-281.183170</td>\n",
       "      <td>-86.241238</td>\n",
       "      <td>-196.321907</td>\n",
       "      <td>-393.107415</td>\n",
       "      <td>-396.630807</td>\n",
       "      <td>-336.701775</td>\n",
       "      <td>-456.901449</td>\n",
       "    </tr>\n",
       "    <tr>\n",
       "      <th>2</th>\n",
       "      <td>203253072</td>\n",
       "      <td>FS4A</td>\n",
       "      <td>FS4A(AB)(FQ12)_C3_R</td>\n",
       "      <td>62</td>\n",
       "      <td>-165.951447</td>\n",
       "      <td>-94.500780</td>\n",
       "      <td>-137.059344</td>\n",
       "      <td>-259.347036</td>\n",
       "      <td>-233.968705</td>\n",
       "      <td>-165.310550</td>\n",
       "      <td>-278.062386</td>\n",
       "    </tr>\n",
       "    <tr>\n",
       "      <th>3</th>\n",
       "      <td>203253253</td>\n",
       "      <td>SMP505</td>\n",
       "      <td>SMP505(PDM22)_L</td>\n",
       "      <td>415</td>\n",
       "      <td>-1351.742617</td>\n",
       "      <td>-602.526716</td>\n",
       "      <td>-833.393866</td>\n",
       "      <td>-1792.570149</td>\n",
       "      <td>-1372.042299</td>\n",
       "      <td>-1084.583954</td>\n",
       "      <td>-1738.116443</td>\n",
       "    </tr>\n",
       "    <tr>\n",
       "      <th>4</th>\n",
       "      <td>203257652</td>\n",
       "      <td>FS4C</td>\n",
       "      <td>FS4C(FQ12)_C6_R</td>\n",
       "      <td>65</td>\n",
       "      <td>-166.173308</td>\n",
       "      <td>-60.672929</td>\n",
       "      <td>-111.419482</td>\n",
       "      <td>-282.400009</td>\n",
       "      <td>-260.562126</td>\n",
       "      <td>-198.255095</td>\n",
       "      <td>-266.419780</td>\n",
       "    </tr>\n",
       "  </tbody>\n",
       "</table>\n",
       "</div>"
      ],
      "text/plain": [
       "      bodyId    type             instance  nsyn   nts_8.gaba  \\\n",
       "0  200326126   CL141              CL141_L   395 -1637.569103   \n",
       "1  202916528    FS4C      FS4C(FQ12)_C4_R    95  -281.183170   \n",
       "2  203253072    FS4A  FS4A(AB)(FQ12)_C3_R    62  -165.951447   \n",
       "3  203253253  SMP505      SMP505(PDM22)_L   415 -1351.742617   \n",
       "4  203257652    FS4C      FS4C(FQ12)_C6_R    65  -166.173308   \n",
       "\n",
       "   nts_8.acetylcholine  nts_8.glutamate  nts_8.serotonin  nts_8.octopamine  \\\n",
       "0         -1888.178775      -115.398941     -2894.561977      -3152.783836   \n",
       "1           -86.241238      -196.321907      -393.107415       -396.630807   \n",
       "2           -94.500780      -137.059344      -259.347036       -233.968705   \n",
       "3          -602.526716      -833.393866     -1792.570149      -1372.042299   \n",
       "4           -60.672929      -111.419482      -282.400009       -260.562126   \n",
       "\n",
       "   nts_8.dopamine  nts_8.neither  \n",
       "0    -3294.689383   -3033.630977  \n",
       "1     -336.701775    -456.901449  \n",
       "2     -165.310550    -278.062386  \n",
       "3    -1084.583954   -1738.116443  \n",
       "4     -198.255095    -266.419780  "
      ]
     },
     "execution_count": 131,
     "metadata": {},
     "output_type": "execute_result"
    }
   ],
   "source": [
    "#load data\n",
    "datapath = \"/Users/julianarhee/Documents/rutalab/projects/connectome/hemibrain_with_nt/\"\n",
    "\n",
    "ntneurons = pd.read_csv(datapath+\"traced-neurons_withnt_log.csv\")\n",
    "#conns = pd.read_csv(datapath+\"traced-total-connections.csv\")\n",
    "ntneurons.head()"
   ]
  },
  {
   "cell_type": "code",
   "execution_count": 141,
   "id": "b45a066e-eb2b-45d0-9238-67d167396bc5",
   "metadata": {},
   "outputs": [],
   "source": [
    "nt_cols = [c for c in ntneurons.columns if c.startswith('nts_')]"
   ]
  },
  {
   "cell_type": "code",
   "execution_count": 150,
   "id": "3433a2cf-6784-4d14-bd1c-0fe35a8136a4",
   "metadata": {},
   "outputs": [
    {
     "data": {
      "text/html": [
       "<div>\n",
       "<style scoped>\n",
       "    .dataframe tbody tr th:only-of-type {\n",
       "        vertical-align: middle;\n",
       "    }\n",
       "\n",
       "    .dataframe tbody tr th {\n",
       "        vertical-align: top;\n",
       "    }\n",
       "\n",
       "    .dataframe thead th {\n",
       "        text-align: right;\n",
       "    }\n",
       "</style>\n",
       "<table border=\"1\" class=\"dataframe\">\n",
       "  <thead>\n",
       "    <tr style=\"text-align: right;\">\n",
       "      <th></th>\n",
       "      <th>bodyId</th>\n",
       "      <th>type</th>\n",
       "      <th>instance</th>\n",
       "      <th>nsyn</th>\n",
       "      <th>neurotransmitter</th>\n",
       "      <th>loglikelihood</th>\n",
       "    </tr>\n",
       "  </thead>\n",
       "  <tbody>\n",
       "    <tr>\n",
       "      <th>0</th>\n",
       "      <td>200326126</td>\n",
       "      <td>CL141</td>\n",
       "      <td>CL141_L</td>\n",
       "      <td>395</td>\n",
       "      <td>nts_8.gaba</td>\n",
       "      <td>-1637.569103</td>\n",
       "    </tr>\n",
       "    <tr>\n",
       "      <th>1</th>\n",
       "      <td>202916528</td>\n",
       "      <td>FS4C</td>\n",
       "      <td>FS4C(FQ12)_C4_R</td>\n",
       "      <td>95</td>\n",
       "      <td>nts_8.gaba</td>\n",
       "      <td>-281.183170</td>\n",
       "    </tr>\n",
       "    <tr>\n",
       "      <th>2</th>\n",
       "      <td>203253072</td>\n",
       "      <td>FS4A</td>\n",
       "      <td>FS4A(AB)(FQ12)_C3_R</td>\n",
       "      <td>62</td>\n",
       "      <td>nts_8.gaba</td>\n",
       "      <td>-165.951447</td>\n",
       "    </tr>\n",
       "    <tr>\n",
       "      <th>3</th>\n",
       "      <td>203253253</td>\n",
       "      <td>SMP505</td>\n",
       "      <td>SMP505(PDM22)_L</td>\n",
       "      <td>415</td>\n",
       "      <td>nts_8.gaba</td>\n",
       "      <td>-1351.742617</td>\n",
       "    </tr>\n",
       "    <tr>\n",
       "      <th>4</th>\n",
       "      <td>203257652</td>\n",
       "      <td>FS4C</td>\n",
       "      <td>FS4C(FQ12)_C6_R</td>\n",
       "      <td>65</td>\n",
       "      <td>nts_8.gaba</td>\n",
       "      <td>-166.173308</td>\n",
       "    </tr>\n",
       "  </tbody>\n",
       "</table>\n",
       "</div>"
      ],
      "text/plain": [
       "      bodyId    type             instance  nsyn neurotransmitter  \\\n",
       "0  200326126   CL141              CL141_L   395       nts_8.gaba   \n",
       "1  202916528    FS4C      FS4C(FQ12)_C4_R    95       nts_8.gaba   \n",
       "2  203253072    FS4A  FS4A(AB)(FQ12)_C3_R    62       nts_8.gaba   \n",
       "3  203253253  SMP505      SMP505(PDM22)_L   415       nts_8.gaba   \n",
       "4  203257652    FS4C      FS4C(FQ12)_C6_R    65       nts_8.gaba   \n",
       "\n",
       "   loglikelihood  \n",
       "0   -1637.569103  \n",
       "1    -281.183170  \n",
       "2    -165.951447  \n",
       "3   -1351.742617  \n",
       "4    -166.173308  "
      ]
     },
     "execution_count": 150,
     "metadata": {},
     "output_type": "execute_result"
    }
   ],
   "source": [
    "# Use melt to transform the DataFrame\n",
    "nt_melted = ntneurons.melt(id_vars=['bodyId', 'type', 'instance', 'nsyn'], value_vars=nt_cols, \n",
    "                    var_name='neurotransmitter', value_name='loglikelihood')"
   ]
  },
  {
   "cell_type": "code",
   "execution_count": 162,
   "id": "af36b583-5ee3-4b3f-a378-8b0ea38a723c",
   "metadata": {},
   "outputs": [
    {
     "data": {
      "text/html": [
       "<div>\n",
       "<style scoped>\n",
       "    .dataframe tbody tr th:only-of-type {\n",
       "        vertical-align: middle;\n",
       "    }\n",
       "\n",
       "    .dataframe tbody tr th {\n",
       "        vertical-align: top;\n",
       "    }\n",
       "\n",
       "    .dataframe thead th {\n",
       "        text-align: right;\n",
       "    }\n",
       "</style>\n",
       "<table border=\"1\" class=\"dataframe\">\n",
       "  <thead>\n",
       "    <tr style=\"text-align: right;\">\n",
       "      <th></th>\n",
       "      <th>bodyId</th>\n",
       "      <th>neurotransmitter</th>\n",
       "    </tr>\n",
       "  </thead>\n",
       "  <tbody>\n",
       "    <tr>\n",
       "      <th>0</th>\n",
       "      <td>799868224</td>\n",
       "      <td>nts_8.gaba</td>\n",
       "    </tr>\n",
       "    <tr>\n",
       "      <th>1</th>\n",
       "      <td>1605518663</td>\n",
       "      <td>nts_8.gaba</td>\n",
       "    </tr>\n",
       "  </tbody>\n",
       "</table>\n",
       "</div>"
      ],
      "text/plain": [
       "       bodyId neurotransmitter\n",
       "0   799868224       nts_8.gaba\n",
       "1  1605518663       nts_8.gaba"
      ]
     },
     "execution_count": 162,
     "metadata": {},
     "output_type": "execute_result"
    }
   ],
   "source": [
    "idx_max = nt_melted[nt_melted['type']=='AOTU019'].groupby('bodyId')['loglikelihood'].idxmax()\n",
    "\n",
    "# Get the value at that index in column 'C'\n",
    "result = nt_melted[nt_melted['type']=='AOTU019'].loc[idx_max, ['bodyId', 'neurotransmitter']].reset_index(drop=True)\n",
    "result"
   ]
  },
  {
   "cell_type": "code",
   "execution_count": 185,
   "id": "d4f1e6c0-3448-48ff-a5a1-6cee619ecdf4",
   "metadata": {},
   "outputs": [],
   "source": [
    "node_df['neurotransmitter'] = None\n",
    "for src_id, node_ in node_df.groupby('source_id'):\n",
    "    # Get max loglikelihood\n",
    "    idx_max = nt_melted[nt_melted['bodyId']==src_id]['loglikelihood'].idxmax()\n",
    "    \n",
    "    # Get the value at that index in NT column\n",
    "    src_nt = nt_melted[nt_melted['bodyId']==src_id].loc[idx_max, 'neurotransmitter'] #.reset_index(drop=True)\n",
    "\n",
    "    node_df.loc[node_df['source_id']==src_id, 'neurotransmitter'] = src_nt"
   ]
  },
  {
   "cell_type": "code",
   "execution_count": 186,
   "id": "82b4e7af-30ba-4b0b-bafe-439f50643e6c",
   "metadata": {},
   "outputs": [
    {
     "data": {
      "text/plain": [
       "array(['nts_8.gaba', 'nts_8.acetylcholine', 'nts_8.glutamate'],\n",
       "      dtype=object)"
      ]
     },
     "execution_count": 186,
     "metadata": {},
     "output_type": "execute_result"
    }
   ],
   "source": [
    "node_df['neurotransmitter'].unique()"
   ]
  },
  {
   "cell_type": "code",
   "execution_count": 209,
   "id": "797f39a4-d3f0-4b9b-9a45-7e1e431b5d87",
   "metadata": {},
   "outputs": [],
   "source": [
    "nt_lut = {'nts_8.gaba': 'in',\n",
    "          'nts_8.acetylcholine': 'ex', \n",
    "          'nts_8.glutamate': 'in'\n",
    "         }\n",
    "inhib_nt = [ 'nts_8.gaba', 'nts_8.glutamate']\n",
    "excit_nt = [ 'nts_8.acetylcholine']"
   ]
  },
  {
   "cell_type": "code",
   "execution_count": 210,
   "id": "c1810f1d-070d-46c7-a5c8-65908afe5075",
   "metadata": {},
   "outputs": [
    {
     "data": {
      "text/html": [
       "<div>\n",
       "<style scoped>\n",
       "    .dataframe tbody tr th:only-of-type {\n",
       "        vertical-align: middle;\n",
       "    }\n",
       "\n",
       "    .dataframe tbody tr th {\n",
       "        vertical-align: top;\n",
       "    }\n",
       "\n",
       "    .dataframe thead th {\n",
       "        text-align: right;\n",
       "    }\n",
       "</style>\n",
       "<table border=\"1\" class=\"dataframe\">\n",
       "  <thead>\n",
       "    <tr style=\"text-align: right;\">\n",
       "      <th></th>\n",
       "      <th>source_id</th>\n",
       "      <th>target_id</th>\n",
       "      <th>source</th>\n",
       "      <th>target</th>\n",
       "      <th>weight</th>\n",
       "      <th>neurotransmitter</th>\n",
       "      <th>nt_type</th>\n",
       "    </tr>\n",
       "  </thead>\n",
       "  <tbody>\n",
       "    <tr>\n",
       "      <th>0</th>\n",
       "      <td>799868224</td>\n",
       "      <td>1787998190</td>\n",
       "      <td>AOTU019</td>\n",
       "      <td>PS232</td>\n",
       "      <td>30</td>\n",
       "      <td>nts_8.gaba</td>\n",
       "      <td>in</td>\n",
       "    </tr>\n",
       "    <tr>\n",
       "      <th>1</th>\n",
       "      <td>1787998190</td>\n",
       "      <td>1100404581</td>\n",
       "      <td>PS232</td>\n",
       "      <td>DNp07</td>\n",
       "      <td>21</td>\n",
       "      <td>nts_8.acetylcholine</td>\n",
       "      <td>ex</td>\n",
       "    </tr>\n",
       "    <tr>\n",
       "      <th>2</th>\n",
       "      <td>799868224</td>\n",
       "      <td>1787998190</td>\n",
       "      <td>AOTU019</td>\n",
       "      <td>PS232</td>\n",
       "      <td>30</td>\n",
       "      <td>nts_8.gaba</td>\n",
       "      <td>in</td>\n",
       "    </tr>\n",
       "    <tr>\n",
       "      <th>3</th>\n",
       "      <td>1787998190</td>\n",
       "      <td>1139909038</td>\n",
       "      <td>PS232</td>\n",
       "      <td>DNa03</td>\n",
       "      <td>127</td>\n",
       "      <td>nts_8.acetylcholine</td>\n",
       "      <td>ex</td>\n",
       "    </tr>\n",
       "    <tr>\n",
       "      <th>4</th>\n",
       "      <td>799868224</td>\n",
       "      <td>1789613296</td>\n",
       "      <td>AOTU019</td>\n",
       "      <td>LAL074</td>\n",
       "      <td>25</td>\n",
       "      <td>nts_8.gaba</td>\n",
       "      <td>in</td>\n",
       "    </tr>\n",
       "  </tbody>\n",
       "</table>\n",
       "</div>"
      ],
      "text/plain": [
       "    source_id   target_id   source  target  weight     neurotransmitter  \\\n",
       "0   799868224  1787998190  AOTU019   PS232      30           nts_8.gaba   \n",
       "1  1787998190  1100404581    PS232   DNp07      21  nts_8.acetylcholine   \n",
       "2   799868224  1787998190  AOTU019   PS232      30           nts_8.gaba   \n",
       "3  1787998190  1139909038    PS232   DNa03     127  nts_8.acetylcholine   \n",
       "4   799868224  1789613296  AOTU019  LAL074      25           nts_8.gaba   \n",
       "\n",
       "  nt_type  \n",
       "0      in  \n",
       "1      ex  \n",
       "2      in  \n",
       "3      ex  \n",
       "4      in  "
      ]
     },
     "execution_count": 210,
     "metadata": {},
     "output_type": "execute_result"
    }
   ],
   "source": [
    "node_df['nt_type'] = [nt_lut[v] for v in node_df['neurotransmitter']]\n",
    "node_df.head()"
   ]
  },
  {
   "cell_type": "code",
   "execution_count": 211,
   "id": "a86e650f-b5de-440e-906e-bb72fbb4dc8a",
   "metadata": {},
   "outputs": [],
   "source": [
    "G_ex = nx.from_pandas_edgelist(node_df[node_df['nt_type']=='ex'])\n",
    "G_in = nx.from_pandas_edgelist(node_df[node_df['nt_type']=='in'])"
   ]
  },
  {
   "cell_type": "code",
   "execution_count": 212,
   "id": "513976a0-867d-4a5d-82f5-2c428c8c97de",
   "metadata": {},
   "outputs": [
    {
     "data": {
      "image/png": "[encoded data removed]",
      "text/plain": [
       "<Figure size 600x400 with 1 Axes>"
      ]
     },
     "metadata": {},
     "output_type": "display_data"
    }
   ],
   "source": [
    "nx.draw_networkx(G_ex, arrows=True)"
   ]
  },
  {
   "cell_type": "markdown",
   "id": "94b7842a-881c-4a42-a95c-3b727088f6cb",
   "metadata": {},
   "source": [
    "## Plot (from Rishika)\n"
   ]
  },
  {
   "cell_type": "code",
   "execution_count": 213,
   "id": "bbe93667-b31f-4341-9d94-4ff3e9f976c2",
   "metadata": {},
   "outputs": [],
   "source": [
    "aotu_list = ['AOTU019', 'AOTU025']"
   ]
  },
  {
   "cell_type": "code",
   "execution_count": 214,
   "id": "30d2a821-0028-457a-90e3-edda430cc07a",
   "metadata": {
    "scrolled": true
   },
   "outputs": [],
   "source": [
    "connection_values = {}\n",
    "for i, j in G.edges:\n",
    "    connection_values['{}_{}'.format(i, j)] = sum(node_df[ (node_df['source']==i) & (node_df['target']==j) ]['weight'].values)\n",
    "#connection_values"
   ]
  },
  {
   "cell_type": "code",
   "execution_count": 215,
   "id": "06bff61b-c34d-4a83-92ca-a8718210730b",
   "metadata": {},
   "outputs": [],
   "source": [
    "# start_pos = -50\n",
    "# end_pos = 50 \n",
    "#np.linspace(start_pos, end_pos, len(level_02_names))\n",
    "\n",
    "edge_color = 'darkgrey'\n",
    "dn_color = 'lightgrey'\n",
    "\n",
    "edge_color_in = 'navy'\n",
    "edge_color_ex = 'darkred'"
   ]
  },
  {
   "cell_type": "code",
   "execution_count": 238,
   "id": "47719ff6-53a1-40d2-ab7b-c1e0b0c21c8b",
   "metadata": {},
   "outputs": [],
   "source": [
    "# define a position map and label map for the graph\n",
    "pos = {}\n",
    "labels = {}\n",
    "colors = {}\n",
    "\n",
    "node_sz = 2200 \n",
    "\n",
    "# AOTUs (ORNs)\n",
    "n_aotus = 2 # n_accepted_orns\n",
    "level_01_names = sorted([v for v in all_paths['type'] if not v.startswith('AOTU') and not v.startswith('DN')]) #all_paths.loc[1]['type'].unique())\n",
    "level_02_names = sorted([v for v in all_paths['type'] if v.startswith('DN')]) #all_paths.loc[2]['type'].unique())\n",
    "n_level_01 = len(level_01_names)\n",
    "n_level_02 = len(level_02_names)\n",
    "\n",
    "orn_offset = 500\n",
    "start_pos = -1*orn_offset\n",
    "end_pos = orn_offset\n",
    "\n",
    "aotu_names = dict((k, v) for k, v in enumerate(aotu_list))\n",
    "aotu_colors = ['red', 'cornflowerblue']\n",
    "curr_positions = [-orn_offset/2, orn_offset/2]\n",
    "for i, v in enumerate(aotu_list): # range(n_accepted_orns)\n",
    "    pos[v] = (0, curr_positions[i]) #-i*orn_offset + orn_offset)\n",
    "    labels[v] = v #aotu_list[i] #selected_orns_names[i].replace('ORN_','')+'(L)' if i < n_accepted_orns-1 else 'Other\\nORN(L)'\n",
    "    colors[v] = aotu_colors[i] #pl.cm.Purples(0.5-i/n_aotus/2) #plt.cm.Purples(0.5-i/n_accepted_orns/2)\n",
    "    #pos[i+n_eff_classes] = (0, i+orn_offset)\n",
    "    #labels[i+n_eff_classes] = selected_orns_names[i].replace('ORN_','')+'(R)' if i < n_accepted_orns-1 else 'Other\\nORN(R)'\n",
    "    #colors[i+n_eff_classes] = plt.cm.Reds(0.5-i/n_accepted_orns/2)\n",
    "# PNs\n",
    "#pn_offset = 25 #20*2000 #n_aotus\n",
    "#for i in range(n_level_01): # range(n_accepted_orns)\n",
    "curr_positions = np.linspace(start_pos, end_pos, len(level_01_names))\n",
    "for i, v in enumerate(level_01_names):   \n",
    "    pos[v] = (-2, curr_positions[i]) #-i*pn_offset + pn_offset)\n",
    "    labels[v] = v #level_01_names[i] #selected_orns_names[i].replace('ORN_','')+'(L)' if i < n_accepted_orns-1 else 'Other\\nORN(L)'\n",
    "    colors[v] = pl.cm.Purples(0.6) #0.5-i/n_level_01/2)\n",
    "#pos[pn_offset] = (-2, -pn_offset)\n",
    "#labels[pn_offset] = 'PN(L)'\n",
    "#colors[pn_offset] = plt.cm.Purples(0.6)\n",
    "#pos[n_accepted_orns+n_eff_classes] = (-2, pn_offset)\n",
    "#labels[n_accepted_orns+n_eff_classes] = 'PN(R)'\n",
    "#colors[n_accepted_orns+n_eff_classes] = plt.cm.Reds(0.6)\n",
    "\n",
    "# # LNs\n",
    "# pos[n_accepted_orns+1] = (-1.5, -ln_offset)\n",
    "# labels[n_accepted_orns+1] = 'LN(L)'\n",
    "# colors[n_accepted_orns+1] = plt.cm.Purples(0.3)\n",
    "# pos[n_accepted_orns+1+n_eff_classes] = (-1.5, ln_offset)\n",
    "# labels[n_accepted_orns+1+n_eff_classes] = 'LN(R)'\n",
    "# colors[n_accepted_orns+1+n_eff_classes] = plt.cm.Reds(0.3)\n",
    "    \n",
    "# other neurons\n",
    "other_neurons = n_level_02 #['KC', 'PAM\\nDAN', 'PPL\\nDAN', 'LH', 'Other']\n",
    "dn_offset = 100 #node_sz * 5000\n",
    "curr_positions = np.linspace(start_pos-dn_offset, end_pos+dn_offset, len(level_02_names))\n",
    "for i, v in enumerate(level_02_names):\n",
    "    pos[v] = (-3, curr_positions[i]) #-i*dn_offset + dn_offset) #n_aotus-2)\n",
    "    labels[v] = v\n",
    "    colors[v] = dn_color\n",
    "# for i in range(n_eff_classes-n_accepted_orns-2):\n",
    "#     pos[i+n_accepted_orns+2] = (-3, -i-other_offset)\n",
    "#     labels[i+n_accepted_orns+2] = other_neurons[i]+'(L)'\n",
    "#     colors[i+n_accepted_orns+2] = 'lightgray'\n",
    "#     pos[i+n_accepted_orns+n_eff_classes+2] = (-3, i+other_offset)\n",
    "#     labels[i+n_accepted_orns+n_eff_classes+2] = other_neurons[i]+'(R)'\n",
    "#     colors[i+n_accepted_orns+n_eff_classes+2] = 'lightgray'\n",
    "\n",
    "# sort the keys\n",
    "pos = {k:(pos[k][1],pos[k][0]) for k in sorted(pos.keys())}\n",
    "labels = {k:labels[k] for k in sorted(labels.keys())}\n",
    "colors = {k:colors[k] for k in sorted(colors.keys())}"
   ]
  },
  {
   "cell_type": "code",
   "execution_count": 239,
   "id": "a3be8be2-bc76-4735-baab-3a362e5de3d0",
   "metadata": {},
   "outputs": [
    {
     "name": "stdout",
     "output_type": "stream",
     "text": [
      "/Users/julianarhee/Documents/rutalab/projects/connectome/neuprint-playground/connectivity aotu019-25_connectivity_top6-prod_2-synapses_minweight-10\n"
     ]
    },
    {
     "name": "stderr",
     "output_type": "stream",
     "text": [
      "/var/folders/6z/bhycp6jj4pxg1qt6h_j36h880000gn/T/ipykernel_21131/3266602708.py:21: UserWarning: \n",
      "\n",
      "The arrowstyle keyword argument is not applicable when drawing edges\n",
      "with LineCollection.\n",
      "\n",
      "To make this warning go away, either specify `arrows=True` to\n",
      "force FancyArrowPatches or use the default value for arrowstyle.\n",
      "Note that using FancyArrowPatches may be slow for large graphs.\n",
      "\n",
      "  nx.draw_networkx_edges(\n",
      "/var/folders/6z/bhycp6jj4pxg1qt6h_j36h880000gn/T/ipykernel_21131/3266602708.py:34: UserWarning: \n",
      "\n",
      "The arrowstyle keyword argument is not applicable when drawing edges\n",
      "with LineCollection.\n",
      "\n",
      "To make this warning go away, either specify `arrows=True` to\n",
      "force FancyArrowPatches or use the default value for arrowstyle.\n",
      "Note that using FancyArrowPatches may be slow for large graphs.\n",
      "\n",
      "  nx.draw_networkx_edges(\n"
     ]
    },
    {
     "data": {
      "image/png": "[encoded data removed]",
      "text/plain": [
       "<Figure size 800x800 with 1 Axes>"
      ]
     },
     "metadata": {},
     "output_type": "display_data"
    }
   ],
   "source": [
    "# draw the graph with arrow thickness proportional to the synapse count\n",
    "log_fold = True\n",
    "\n",
    "pl.figure(figsize=(8,8))\n",
    "n_eff_classes = 1\n",
    "# split into nodes and edges\n",
    "nx.draw_networkx_nodes(\n",
    "    G, \n",
    "    pos, \n",
    "    node_size=[node_sz if i in aotu_list else node_sz/1.5 for i in G.nodes], \n",
    "    node_color=[colors[i] for i in G.nodes]\n",
    "    )\n",
    "nx.draw_networkx_labels(\n",
    "    G, \n",
    "    pos, \n",
    "    labels=labels, \n",
    "    font_size=10,\n",
    "    font_weight='bold'\n",
    "    )\n",
    "# draw excitatory edges\n",
    "nx.draw_networkx_edges(\n",
    "    G_ex, #G_exc, \n",
    "    pos, \n",
    "    edge_color=edge_color_ex,\n",
    "    width = [connection_values['{}_{}'.format(i, j)]*0.07*(1 if log_fold else 50) for i,j in G_ex.edges],\n",
    "    #width=[np.abs(pos_matrix[i,j])*0.3*(1 if log_fold else 50)  for i,j in G.edges], #G_exc.edges], \n",
    "    arrowsize=20, \n",
    "    arrowstyle='-|>',\n",
    "    node_size=2200,\n",
    "    alpha=0.7,\n",
    "    # connectionstyle='arc3,rad=0.1'\n",
    "    )\n",
    "# draw inhibitory edges\n",
    "nx.draw_networkx_edges(\n",
    "    G_in, #G_inh, \n",
    "    pos, \n",
    "    edge_color=edge_color_in, #'orange', \n",
    "    width = [connection_values['{}_{}'.format(i, j)]*0.07*(1 if log_fold else 50) for i,j in G_in.edges],\n",
    "    #width=[np.abs(neg_matrix[i,j])*0.3*(1 if log_fold else 50) for i,j in G_inh.edges], \n",
    "    arrowsize=5, \n",
    "    arrowstyle='-[',\n",
    "    node_size=2200,\n",
    "    alpha=0.7,\n",
    "    # connectionstyle='arc3,rad=0.1'\n",
    "    )\n",
    "\n",
    "# add edge labels (synapse counts)\n",
    "#edge_labels = {(i,j):int(abs(connection_values[i,j])) for i,j in G.edges} #G_exc.edges}\n",
    "edge_labels = {(i,j):int(abs(connection_values['{}_{}'.format(i, j)])) for i,j in G.edges} #G_exc.edges}\n",
    "nx.draw_networkx_edge_labels(G, pos, edge_labels=edge_labels, font_size=8, \n",
    "                             font_weight='bold', label_pos=0.3, font_color='k')\n",
    "# edge_labels = {(i,j):int(abs(connection_values[i,j])) for i,j in G_inh.edges}\n",
    "# nx.draw_networkx_edge_labels(G_inh, pos, edge_labels=edge_labels, font_size=5, font_weight='bold', label_pos=0.3, font_color='orange')\n",
    "\n",
    "pl.axis('off')\n",
    "pl.title('{} downstream connectivity'.format('aotu')) #orn_type))\n",
    "figname = 'aotu019-25_connectivity_top{}-prod_{}-synapses_minweight-{}'.format(n_plot, n_nodes-1, min_weight) \n",
    "pl.savefig(os.path.join(figdir, '{}.pdf'.format(figname))) #/{}_downstream_connectivity.pdf'.format(orn_type))\n",
    "print(figdir, figname)\n",
    "pl.show()"
   ]
  },
  {
   "cell_type": "code",
   "execution_count": null,
   "id": "8c5dec74-b80a-4602-96d7-3a5e087622fb",
   "metadata": {},
   "outputs": [],
   "source": []
  },
  {
   "cell_type": "code",
   "execution_count": null,
   "id": "dc12193e-a8ac-4776-aa3b-62a919da4cf2",
   "metadata": {},
   "outputs": [],
   "source": []
  },
  {
   "cell_type": "code",
   "execution_count": 207,
   "id": "9b75a430-29cb-46d3-bd04-37e7180cbb28",
   "metadata": {},
   "outputs": [
    {
     "data": {
      "text/plain": [
       "{'AOTU019': (-75.0, 0),\n",
       " 'AOTU025': (75.0, 0),\n",
       " 'DNa02': (-150.0, -3),\n",
       " 'DNa03': (-95.45454545454545, -3),\n",
       " 'DNa04': (-68.18181818181819, -3),\n",
       " 'DNa09': (-40.90909090909091, -3),\n",
       " 'DNb01': (13.636363636363626, -3),\n",
       " 'DNb04': (40.90909090909091, -3),\n",
       " 'DNp05': (68.18181818181819, -3),\n",
       " 'DNp07': (95.45454545454547, -3),\n",
       " 'DNp15': (122.72727272727275, -3),\n",
       " 'DNp31': (150.0, -3),\n",
       " 'LAL018': (-150.0, -2),\n",
       " 'LAL074': (-50.0, -2),\n",
       " 'PS042': (16.666666666666686, -2),\n",
       " 'PS065': (50.0, -2),\n",
       " 'PS232': (150.0, -2)}"
      ]
     },
     "execution_count": 207,
     "metadata": {},
     "output_type": "execute_result"
    }
   ],
   "source": [
    "pos"
   ]
  },
  {
   "cell_type": "code",
   "execution_count": 548,
   "id": "7a44d8a1-6eea-4b84-89a6-4965b41656ef",
   "metadata": {},
   "outputs": [
    {
     "data": {
      "text/plain": [
       "NodeView(('AOTU019', 'PS232', 'DNp07', 'DNa03', 'LAL074', 'DNa04', 'DNb01', 'AOTU025', 'PS042', 'DNp31', 'DNb04', 'DNa02', 'LAL018', 'DNp15'))"
      ]
     },
     "execution_count": 548,
     "metadata": {},
     "output_type": "execute_result"
    }
   ],
   "source": [
    "G.nodes"
   ]
  },
  {
   "cell_type": "code",
   "execution_count": 277,
   "id": "32cdb1af-f5eb-4da7-b6f1-7e239184563f",
   "metadata": {},
   "outputs": [],
   "source": [
    "pos_spring=nx.spring_layout(G)"
   ]
  },
  {
   "cell_type": "code",
   "execution_count": 69,
   "id": "edc68c55-866b-4f70-a457-ccfcfffceca6",
   "metadata": {},
   "outputs": [
    {
     "data": {
      "text/plain": [
       "{'AOTU019': array([-0.24447527, -0.23455569]),\n",
       " 'PS232': array([-0.43798687,  0.46138073]),\n",
       " 'DNa03': array([-0.94590689,  0.99970294]),\n",
       " 'LAL074': array([ 0.4370217 , -0.45927633]),\n",
       " 'DNa04': array([ 0.94454763, -1.        ]),\n",
       " 'DNa05': array([0.2467997 , 0.23274835])}"
      ]
     },
     "execution_count": 69,
     "metadata": {},
     "output_type": "execute_result"
    }
   ],
   "source": [
    "pos_spring"
   ]
  },
  {
   "cell_type": "code",
   "execution_count": null,
   "id": "6ac725bc-a20c-4e22-b323-a353538677ae",
   "metadata": {},
   "outputs": [],
   "source": []
  }
 ],
 "metadata": {
  "kernelspec": {
   "display_name": "Python 3 (ipykernel)",
   "language": "python",
   "name": "python3"
  },
  "language_info": {
   "codemirror_mode": {
    "name": "ipython",
    "version": 3
   },
   "file_extension": ".py",
   "mimetype": "text/x-python",
   "name": "python",
   "nbconvert_exporter": "python",
   "pygments_lexer": "ipython3",
   "version": "3.11.7"
  }
 },
 "nbformat": 4,
 "nbformat_minor": 5
}
